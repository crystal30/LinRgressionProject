{
 "cells": [
  {
   "cell_type": "markdown",
   "metadata": {},
   "source": [
    "# 线性回归中梯度下降法的实现"
   ]
  },
  {
   "cell_type": "code",
   "execution_count": 1,
   "metadata": {},
   "outputs": [
    {
     "data": {
      "text/plain": [
       "<matplotlib.figure.Figure at 0x7f9b245a9b70>"
      ]
     },
     "metadata": {},
     "output_type": "display_data"
    }
   ],
   "source": [
    "import numpy as np\n",
    "import matplotlib.pyplot as plt\n",
    "np.random.seed(666)\n",
    "x = 2*np.random.random(size = 100)\n",
    "y = x *3. + 4. + np.random.normal(size = 100)\n",
    "X = x.reshape(-1,1)\n",
    "y = y.reshape(-1,1)\n",
    "X.shape\n",
    "y.shape\n",
    "plt.scatter(X,y)\n",
    "plt.show()"
   ]
  },
  {
   "cell_type": "code",
   "execution_count": 2,
   "metadata": {},
   "outputs": [],
   "source": [
    "# 损失函数J\n",
    "def J(y,Xb,theta):\n",
    "    try:\n",
    "        return (y - Xb.dot(theta)).T.dot(y - Xb.dot(theta))/len(y)\n",
    "    except:\n",
    "        return float('inf')\n",
    "\n",
    "def dJ(y,Xb,theta):\n",
    "    res = np.empty(len(theta)).reshape(-1,1)\n",
    "    for i in range(Xb.shape[1]):\n",
    "        res[i] = (Xb.dot(theta)-y).T.dot(Xb[:,i])\n",
    "    return res*2/len(y)\n",
    "\n",
    "def gradient_descent(y,Xb,theta,eta,epsilon = 1e-8,iters = 1e3):\n",
    "    i_iters = 0\n",
    "    while i_iters < iters:\n",
    "        i_iters +=1\n",
    "        last_theta = theta\n",
    "        theta = theta - eta*dJ(y,Xb,theta)\n",
    "        if np.abs(J(y,Xb,theta) - J(y,Xb,last_theta))<epsilon:\n",
    "            break\n",
    "    return theta"
   ]
  },
  {
   "cell_type": "code",
   "execution_count": 3,
   "metadata": {},
   "outputs": [],
   "source": [
    "Xb = np.hstack([np.ones(shape = (len(X),1)),X])\n",
    "theta = np.zeros(shape = (Xb.shape[1],1))\n",
    "eta = 0.1\n",
    "\n",
    "theta = gradient_descent(y,Xb,theta,eta)"
   ]
  },
  {
   "cell_type": "code",
   "execution_count": 4,
   "metadata": {},
   "outputs": [],
   "source": [
    "#进一步对梯度函数进行向量化\n",
    "def dJ(y,Xb,theta):\n",
    "    return Xb.T.dot(Xb.dot(theta)-y)*2/len(y)\n"
   ]
  },
  {
   "cell_type": "code",
   "execution_count": 5,
   "metadata": {},
   "outputs": [
    {
     "data": {
      "text/plain": [
       "array([[4.02369667],\n",
       "       [3.00517447]])"
      ]
     },
     "execution_count": 5,
     "metadata": {},
     "output_type": "execute_result"
    }
   ],
   "source": [
    "Xb = np.hstack([np.ones(shape = (len(X),1)),X])\n",
    "theta = np.zeros(Xb.shape[1])\n",
    "eta = 0.1\n",
    "\n",
    "theta = gradient_descent(y,Xb,theta,eta)\n",
    "theta"
   ]
  },
  {
   "cell_type": "markdown",
   "metadata": {},
   "source": [
    "# 对梯度下降法进行封装"
   ]
  },
  {
   "cell_type": "code",
   "execution_count": 6,
   "metadata": {},
   "outputs": [
    {
     "data": {
      "text/plain": [
       "LinearRegression()"
      ]
     },
     "execution_count": 6,
     "metadata": {},
     "output_type": "execute_result"
    }
   ],
   "source": [
    "\n",
    "from regressionProject.LinearRegression import LinearRegression\n",
    "reg = LinearRegression()\n",
    "reg.fit_gd(X,y)"
   ]
  },
  {
   "cell_type": "code",
   "execution_count": 7,
   "metadata": {},
   "outputs": [
    {
     "data": {
      "text/plain": [
       "array([[3.02953666]])"
      ]
     },
     "execution_count": 7,
     "metadata": {},
     "output_type": "execute_result"
    }
   ],
   "source": [
    "reg.coef_"
   ]
  },
  {
   "cell_type": "code",
   "execution_count": 8,
   "metadata": {},
   "outputs": [
    {
     "data": {
      "text/plain": [
       "array([3.99481236])"
      ]
     },
     "execution_count": 8,
     "metadata": {},
     "output_type": "execute_result"
    }
   ],
   "source": [
    "reg.interception_"
   ]
  },
  {
   "cell_type": "code",
   "execution_count": null,
   "metadata": {},
   "outputs": [],
   "source": []
  }
 ],
 "metadata": {
  "kernelspec": {
   "display_name": "Python 3",
   "language": "python",
   "name": "python3"
  },
  "language_info": {
   "codemirror_mode": {
    "name": "ipython",
    "version": 3
   },
   "file_extension": ".py",
   "mimetype": "text/x-python",
   "name": "python",
   "nbconvert_exporter": "python",
   "pygments_lexer": "ipython3",
   "version": "3.6.4"
  }
 },
 "nbformat": 4,
 "nbformat_minor": 2
}
