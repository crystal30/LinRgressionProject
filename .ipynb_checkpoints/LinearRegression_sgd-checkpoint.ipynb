{
 "cells": [
  {
   "cell_type": "code",
   "execution_count": 1,
   "metadata": {},
   "outputs": [],
   "source": [
    "import numpy as np\n",
    "m = 100000\n",
    "x = np.random.normal(size = m)\n",
    "X = x.reshape(-1,1)\n",
    "y = 4.*x + 3. + np.random.normal(size = m)"
   ]
  },
  {
   "cell_type": "markdown",
   "metadata": {},
   "source": [
    "# 用批量梯度下降法\n"
   ]
  },
  {
   "cell_type": "code",
   "execution_count": 2,
   "metadata": {},
   "outputs": [],
   "source": [
    "def J(Xb, y, theta):\n",
    "    try:\n",
    "        return (y - Xb.dot(theta)).T.dot(y - Xb.dot(theta)) / len(y)\n",
    "    except:\n",
    "        return float('inf')\n",
    "\n",
    "def dJ(Xb, y, theta):\n",
    "    return Xb.T.dot(Xb.dot(theta) - y) * 2 / len(y)\n",
    "\n",
    "def gradient_descent(Xb, y, init_theta,eta = 0.01,iters = 1e3, epsilon=1e-8):\n",
    "    theta = init_theta\n",
    "    i_iters = 0\n",
    "    while i_iters < iters:\n",
    "        i_iters += 1\n",
    "        last_theta = theta\n",
    "        theta = theta - eta * dJ(Xb, y, theta)\n",
    "        if abs(J(Xb, y, theta) - J(Xb, y, last_theta)) < epsilon:\n",
    "            break\n",
    "    return theta\n",
    "\n",
    "Xb = np.hstack([np.ones((len(X), 1)), X])\n",
    "init_theta = np.zeros(Xb.shape[1]) #\n"
   ]
  },
  {
   "cell_type": "code",
   "execution_count": 3,
   "metadata": {},
   "outputs": [
    {
     "name": "stdout",
     "output_type": "stream",
     "text": [
      "CPU times: user 3.32 s, sys: 1.54 s, total: 4.87 s\n",
      "Wall time: 4.93 s\n"
     ]
    }
   ],
   "source": [
    "%time theta = gradient_descent(Xb, y, init_theta)\n"
   ]
  },
  {
   "cell_type": "code",
   "execution_count": 4,
   "metadata": {},
   "outputs": [
    {
     "data": {
      "text/plain": [
       "array([2.99414619, 3.99899034])"
      ]
     },
     "execution_count": 4,
     "metadata": {},
     "output_type": "execute_result"
    }
   ],
   "source": [
    "theta"
   ]
  },
  {
   "cell_type": "code",
   "execution_count": 5,
   "metadata": {},
   "outputs": [],
   "source": [
    "def dJ_sgd(Xb_i, y_i, theta):\n",
    "    return Xb_i.T.dot(Xb_i.dot(theta) - y_i) * 2 \n",
    "\n",
    "def eta(i_iters):\n",
    "    t0 = 5\n",
    "    t1 = 50\n",
    "    return t0/(i_iters+t1)\n",
    "\n",
    "def sgd(Xb, y, init_theta,iters):\n",
    "    theta = init_theta\n",
    "    i_iters = 0\n",
    "    while i_iters < iters:\n",
    "        i = np.random.randint(len(y))\n",
    "        i_iters += 1\n",
    "        last_theta = theta\n",
    "        theta = theta - eta(i_iters) * dJ_sgd(Xb[i,:], y[i], theta)\n",
    "    return theta\n",
    "\n",
    "Xb = np.hstack([np.ones((len(X), 1)), X])\n",
    "init_theta = np.zeros(Xb.shape[1])\n",
    "iters = len(y)//3"
   ]
  },
  {
   "cell_type": "code",
   "execution_count": 6,
   "metadata": {},
   "outputs": [
    {
     "name": "stdout",
     "output_type": "stream",
     "text": [
      "CPU times: user 708 ms, sys: 4 ms, total: 712 ms\n",
      "Wall time: 728 ms\n"
     ]
    }
   ],
   "source": [
    "%time theta = sgd(Xb, y, init_theta,iters)"
   ]
  },
  {
   "cell_type": "code",
   "execution_count": 7,
   "metadata": {},
   "outputs": [
    {
     "data": {
      "text/plain": [
       "array([2.99846709, 4.01635792])"
      ]
     },
     "execution_count": 7,
     "metadata": {},
     "output_type": "execute_result"
    }
   ],
   "source": [
    "theta"
   ]
  },
  {
   "cell_type": "markdown",
   "metadata": {},
   "source": [
    "由运行结果，批量梯度下降法和随机梯度下降法均能得到较好的回归，然而随机梯度下降法的计算量很小\n",
    "随机梯度下降法全部的运算次数iters = len(y)//3(其每次迭代只需要计算一个样本,总共计算m//3次),还不到批量下降法一次迭代的运算（一次迭代就需要计算所有的样本（计算m次））次数大\n"
   ]
  },
  {
   "cell_type": "markdown",
   "metadata": {},
   "source": [
    "# 封装SGD"
   ]
  },
  {
   "cell_type": "markdown",
   "metadata": {},
   "source": [
    "对于实际中复杂的数据，为了实现更好的预测性能,我们往往要保证在随机梯度下降法中至少遍历一遍所有的样本。\n",
    "故将我们上述的sgd函数需改写如下形式"
   ]
  },
  {
   "cell_type": "code",
   "execution_count": 8,
   "metadata": {},
   "outputs": [],
   "source": [
    "# 此时的iters指的是遍历样本的次数\n",
    "def sgd(Xb, y, init_theta, iters):\n",
    "    theta = init_theta\n",
    "    i_iters = 0\n",
    "    while i_iters < iters:\n",
    "        i_iters += 1\n",
    "        index = np.random.permutation(len(y))\n",
    "        for i in index:\n",
    "            theta = theta - eta(i_iters) * dJ_sgd(Xb[i,:], y[i], theta)\n",
    "    return theta"
   ]
  },
  {
   "cell_type": "code",
   "execution_count": 16,
   "metadata": {},
   "outputs": [
    {
     "data": {
      "text/plain": [
       "LinearRegression()"
      ]
     },
     "execution_count": 16,
     "metadata": {},
     "output_type": "execute_result"
    }
   ],
   "source": [
    "from regressionProject.LinearRegression import LinearRegression\n",
    "reg = LinearRegression()\n",
    "reg.fit_sgd(X,y,iters = 3)"
   ]
  },
  {
   "cell_type": "code",
   "execution_count": 17,
   "metadata": {},
   "outputs": [
    {
     "data": {
      "text/plain": [
       "array([4.33605826])"
      ]
     },
     "execution_count": 17,
     "metadata": {},
     "output_type": "execute_result"
    }
   ],
   "source": [
    "reg.coef_"
   ]
  },
  {
   "cell_type": "code",
   "execution_count": 18,
   "metadata": {},
   "outputs": [
    {
     "data": {
      "text/plain": [
       "3.0357940956390683"
      ]
     },
     "execution_count": 18,
     "metadata": {},
     "output_type": "execute_result"
    }
   ],
   "source": [
    "reg.interception_"
   ]
  },
  {
   "cell_type": "code",
   "execution_count": null,
   "metadata": {},
   "outputs": [],
   "source": []
  }
 ],
 "metadata": {
  "kernelspec": {
   "display_name": "Python 3",
   "language": "python",
   "name": "python3"
  },
  "language_info": {
   "codemirror_mode": {
    "name": "ipython",
    "version": 3
   },
   "file_extension": ".py",
   "mimetype": "text/x-python",
   "name": "python",
   "nbconvert_exporter": "python",
   "pygments_lexer": "ipython3",
   "version": "3.6.4"
  }
 },
 "nbformat": 4,
 "nbformat_minor": 2
}
