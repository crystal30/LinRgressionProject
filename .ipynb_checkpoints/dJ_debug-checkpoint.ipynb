{
 "cells": [
  {
   "cell_type": "markdown",
   "metadata": {},
   "source": [
    "有时损失函数非常的复杂，我们不能保证算出的梯度表达式是正确的,\n",
    "因此，我们有必要先根据梯度的定义来求出梯度,进而来验证我们使用的梯度表达式是否正确"
   ]
  },
  {
   "cell_type": "markdown",
   "metadata": {},
   "source": [
    "那为什么不直接用梯度的定义来求梯度呢？\n",
    "因为用最原始的梯度的定义来求解梯度，运算量比较大"
   ]
  },
  {
   "cell_type": "code",
   "execution_count": 1,
   "metadata": {},
   "outputs": [],
   "source": [
    "import numpy as np\n",
    "np.random.seed(666)\n",
    "X = np.random.random(size=(1000,10))\n",
    "true_theta = np.arange(1,12,dtype = float)\n",
    "Xb = np.hstack([np.ones(shape = (X.shape[0],1)),X])\n",
    "y = Xb.dot(true_theta) + np.random.normal(size = 1000)"
   ]
  },
  {
   "cell_type": "code",
   "execution_count": 2,
   "metadata": {},
   "outputs": [],
   "source": [
    "# 用之前推导的批量梯度下降法\n",
    "def J(y,Xb,theta):\n",
    "    try:\n",
    "        return (y - Xb.dot(theta)).T.dot(y - Xb.dot(theta))/len(y)\n",
    "    except:\n",
    "        return float('inf')\n",
    "\n",
    "def dJ_math(y,Xb,theta):\n",
    "    return Xb.T.dot(Xb.dot(theta)-y)*2/len(y)\n"
   ]
  },
  {
   "cell_type": "code",
   "execution_count": 3,
   "metadata": {},
   "outputs": [],
   "source": [
    "# 利用定义编写 梯度函数\n",
    "def dJ_debug(y,Xb,theta,interval = 0.01):\n",
    "    theta_len = len(theta)\n",
    "    dJ_theta = np.empty(theta_len)\n",
    "    for i in range(theta_len):\n",
    "        theta1 = theta.copy()\n",
    "        theta1[i] += interval\n",
    "        theta2 = theta.copy()\n",
    "        theta2[i] -= interval\n",
    "        dJ_theta[i] = (J(y,Xb,theta1) - J(y,Xb,theta2))/(2*interval)\n",
    "    return dJ_theta        "
   ]
  },
  {
   "cell_type": "code",
   "execution_count": 4,
   "metadata": {},
   "outputs": [],
   "source": [
    "# 由于有两个梯度函数，故，我们将梯度函数作为参数，以便后续选取\n",
    "def gradient_descent(dJ,y,Xb,theta,eta,epsilon = 1e-8,iters = 1e3):\n",
    "    i_iters = 0\n",
    "    while i_iters < iters:\n",
    "        i_iters +=1\n",
    "        last_theta = theta\n",
    "        theta = theta - eta*dJ(y,Xb,theta)\n",
    "        if np.abs(J(y,Xb,theta) - J(y,Xb,last_theta))<epsilon:\n",
    "            break\n",
    "    return theta"
   ]
  },
  {
   "cell_type": "code",
   "execution_count": 5,
   "metadata": {},
   "outputs": [
    {
     "name": "stdout",
     "output_type": "stream",
     "text": [
      "CPU times: user 952 ms, sys: 0 ns, total: 952 ms\n",
      "Wall time: 979 ms\n"
     ]
    },
    {
     "data": {
      "text/plain": [
       "array([ 1.12448208,  2.0532145 ,  2.91537413,  4.11911927,  5.05015289,\n",
       "        5.905056  ,  6.97398562,  8.00099195,  8.86229107,  9.9862026 ,\n",
       "       10.90543608])"
      ]
     },
     "execution_count": 5,
     "metadata": {},
     "output_type": "execute_result"
    }
   ],
   "source": [
    "theta = np.zeros(Xb.shape[1])\n",
    "eta = 0.1\n",
    "%time theta_hat = gradient_descent(dJ_debug,y,Xb,theta,eta)\n",
    "theta_hat"
   ]
  },
  {
   "cell_type": "code",
   "execution_count": 6,
   "metadata": {},
   "outputs": [
    {
     "name": "stdout",
     "output_type": "stream",
     "text": [
      "CPU times: user 124 ms, sys: 0 ns, total: 124 ms\n",
      "Wall time: 142 ms\n"
     ]
    },
    {
     "data": {
      "text/plain": [
       "array([ 1.12448208,  2.0532145 ,  2.91537413,  4.11911927,  5.05015289,\n",
       "        5.905056  ,  6.97398562,  8.00099195,  8.86229107,  9.9862026 ,\n",
       "       10.90543608])"
      ]
     },
     "execution_count": 6,
     "metadata": {},
     "output_type": "execute_result"
    }
   ],
   "source": [
    "%time theta_hat1 = gradient_descent(dJ_math,y,Xb,theta,eta)\n",
    "theta_hat1"
   ]
  },
  {
   "cell_type": "markdown",
   "metadata": {},
   "source": [
    "通过运行时间可以看出,通过定义求导显然要比通过（分析计算得出）梯度表达式的运算复杂度高，更耗时间。\n",
    "因此，通过定义求导只能起到一个调试梯度的作用，并不能用于实际的训练中"
   ]
  },
  {
   "cell_type": "code",
   "execution_count": null,
   "metadata": {},
   "outputs": [],
   "source": []
  }
 ],
 "metadata": {
  "kernelspec": {
   "display_name": "Python 3",
   "language": "python",
   "name": "python3"
  },
  "language_info": {
   "codemirror_mode": {
    "name": "ipython",
    "version": 3
   },
   "file_extension": ".py",
   "mimetype": "text/x-python",
   "name": "python",
   "nbconvert_exporter": "python",
   "pygments_lexer": "ipython3",
   "version": "3.6.4"
  }
 },
 "nbformat": 4,
 "nbformat_minor": 2
}
