{
 "cells": [
  {
   "cell_type": "code",
   "execution_count": 11,
   "metadata": {},
   "outputs": [
    {
     "data": {
      "text/plain": [
       "array([[1, 3],\n",
       "       [6, 9]])"
      ]
     },
     "execution_count": 11,
     "metadata": {},
     "output_type": "execute_result"
    }
   ],
   "source": [
    "#Fancy Indexing\n",
    "import numpy as np\n",
    "#对于向量\n",
    "x = np.arange(16)\n",
    "x[3] #取x的第4个元素\n",
    "x[3:9]#切片操作\n",
    "x[3:9:2]#以2为步长的切片操作\n",
    "#若要想访问第3,5,9个元素怎么办，这些元素不能用切片设置确定的步长来获得\n",
    "ind = [2,4,8]\n",
    "x[ind]\n",
    "#ind 也可以为二维的\n",
    "ind = np.array([[1,3],\n",
    "               [6,9]])\n",
    "x[ind]"
   ]
  },
  {
   "cell_type": "code",
   "execution_count": 16,
   "metadata": {},
   "outputs": [
    {
     "data": {
      "text/plain": [
       "array([[ 0,  1,  2,  3],\n",
       "       [ 4,  5,  6,  7],\n",
       "       [ 8,  9, 10, 11],\n",
       "       [12, 13, 14, 15]])"
      ]
     },
     "execution_count": 16,
     "metadata": {},
     "output_type": "execute_result"
    }
   ],
   "source": [
    "#对于矩阵\n",
    "Y = x.reshape(4,-1)\n",
    "Y"
   ]
  },
  {
   "cell_type": "code",
   "execution_count": 18,
   "metadata": {},
   "outputs": [
    {
     "data": {
      "text/plain": [
       "array([[0, 2, 3],\n",
       "       [4, 6, 7]])"
      ]
     },
     "execution_count": 18,
     "metadata": {},
     "output_type": "execute_result"
    }
   ],
   "source": [
    "#取出下标为 （0,1）（1,2）（2,3）的元素\n",
    "row = np.array([0,1,2])\n",
    "col = np.array([1,2,3])\n",
    "Y[row,col]\n",
    "#取出第0行，下标为col的元素\n",
    "Y[0,col] \n",
    "#取出0，1行，下标为col的元素\n",
    "Y[:2,col]\n",
    "#下标用bool值来表示,取出0,1行，0,2,3列的数据\n",
    "col = [True,False,True,True]\n",
    "Y[:2,col]"
   ]
  },
  {
   "cell_type": "code",
   "execution_count": 19,
   "metadata": {},
   "outputs": [
    {
     "data": {
      "text/plain": [
       "array([ 0,  1,  2,  3,  4,  5,  6,  7,  8,  9, 10, 11, 12, 13, 14, 15])"
      ]
     },
     "execution_count": 19,
     "metadata": {},
     "output_type": "execute_result"
    }
   ],
   "source": [
    "#numpy.array 中的比较\n",
    "#向量\n",
    "x"
   ]
  },
  {
   "cell_type": "code",
   "execution_count": 56,
   "metadata": {},
   "outputs": [
    {
     "data": {
      "text/plain": [
       "8"
      ]
     },
     "execution_count": 56,
     "metadata": {},
     "output_type": "execute_result"
    }
   ],
   "source": [
    "x<3 #注意输出的是bool值\n",
    "x>3\n",
    "x<=3\n",
    "x>=3\n",
    "x==3\n",
    "#同样，也可以写成表达式的形式\n",
    "2*x == 24-4*x\n",
    "np.sum(x<=3)#输出x中 <=3 的个数\n",
    "#还可以加入逻辑运算\n",
    "np.sum((x>3)&(x<10))  #与\n",
    "np.sum((x%2==0)|(x>10)) #或\n",
    "np.sum(~(x%2==0)) #非\n",
    "\n",
    "np.count_nonzero(x<=3) # = np.sum(x<=3),注：True=1,False=0\n",
    "np.count_nonzero((x%2==0)|(x>10))\n",
    "\n",
    "np.any(x==0) # x中 有一个数为0,即返回True\n",
    "np.all(x==0) #x 中所有的数都为0,才返回True，否则返回False\n"
   ]
  },
  {
   "cell_type": "code",
   "execution_count": 30,
   "metadata": {},
   "outputs": [
    {
     "data": {
      "text/plain": [
       "array([[ 0,  1,  2,  3],\n",
       "       [ 4,  5,  6,  7],\n",
       "       [ 8,  9, 10, 11],\n",
       "       [12, 13, 14, 15]])"
      ]
     },
     "execution_count": 30,
     "metadata": {},
     "output_type": "execute_result"
    }
   ],
   "source": [
    "Y"
   ]
  },
  {
   "cell_type": "code",
   "execution_count": 46,
   "metadata": {},
   "outputs": [
    {
     "data": {
      "text/plain": [
       "array([False,  True,  True,  True])"
      ]
     },
     "execution_count": 46,
     "metadata": {},
     "output_type": "execute_result"
    }
   ],
   "source": [
    "#矩阵\n",
    "Y<6 #同理 输出的也是bool值\n",
    "Y>6\n",
    "Y<=6\n",
    "Y>=6\n",
    "Y==3\n",
    "#同样，也可以写成表达式的形式\n",
    "2*Y == 24-4*Y\n",
    "np.sum(Y<=6)#输出Y中 <=6 的个数\n",
    "np.sum(Y<=6,axis=0)\n",
    "np.sum(Y<=6,axis=1)\n",
    "\n",
    "np.count_nonzero(Y<=6) # = np.sum(Y<=6),注：True=1,False=0\n",
    "np.count_nonzero(Y<=6,axis=0)\n",
    "np.count_nonzero(Y<=6,axis=1)\n",
    "\n",
    "np.any(Y==0) # Y中 有一个数为0,即返回True\n",
    "np.any(Y==0,axis=0)\n",
    "np.any(Y==0,axis=1)\n",
    "\n",
    "np.all(Y==0) # Y中所有的数都为0,才返回True，否则返回False\n",
    "np.all(Y==0,axis=0)\n",
    "np.all(Y>0,axis=1)"
   ]
  },
  {
   "cell_type": "code",
   "execution_count": null,
   "metadata": {},
   "outputs": [],
   "source": []
  }
 ],
 "metadata": {
  "kernelspec": {
   "display_name": "Python 3",
   "language": "python",
   "name": "python3"
  },
  "language_info": {
   "codemirror_mode": {
    "name": "ipython",
    "version": 3
   },
   "file_extension": ".py",
   "mimetype": "text/x-python",
   "name": "python",
   "nbconvert_exporter": "python",
   "pygments_lexer": "ipython3",
   "version": "3.6.4"
  }
 },
 "nbformat": 4,
 "nbformat_minor": 2
}
